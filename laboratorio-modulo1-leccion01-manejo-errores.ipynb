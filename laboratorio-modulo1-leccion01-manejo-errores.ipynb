{
 "cells": [
  {
   "cell_type": "markdown",
   "metadata": {},
   "source": [
    "\n",
    "<div style=\"text-align: center;\">\n",
    "  <img src=\"https://github.com/Hack-io-Data/Imagenes/blob/main/01-LogosHackio/logo_celeste@4x.png?raw=true\" alt=\"esquema\" />\n",
    "</div>\n"
   ]
  },
  {
   "cell_type": "markdown",
   "metadata": {},
   "source": [
    "# Laboratorio de Python: manejo de errores."
   ]
  },
  {
   "cell_type": "markdown",
   "metadata": {},
   "source": [
    "## Ejercicio 1: División con manejo de excepciones\n",
    "\n",
    "Escribe un programa que pida al usuario dos números e intente dividirlos. Si el usuario ingresa un valor no numérico o intenta dividir por cero, maneja esas excepciones de manera adecuada. Asegúrate de mostrar un mensaje indicando si la división fue exitosa o no.\n"
   ]
  },
  {
   "cell_type": "code",
   "execution_count": 5,
   "metadata": {},
   "outputs": [
    {
     "ename": "ValueError",
     "evalue": "invalid literal for int() with base 10: 'd'",
     "output_type": "error",
     "traceback": [
      "\u001b[1;31m---------------------------------------------------------------------------\u001b[0m",
      "\u001b[1;31mValueError\u001b[0m                                Traceback (most recent call last)",
      "Cell \u001b[1;32mIn[5], line 2\u001b[0m\n\u001b[0;32m      1\u001b[0m num1 \u001b[38;5;241m=\u001b[39m \u001b[38;5;28mint\u001b[39m(\u001b[38;5;28minput\u001b[39m(\u001b[38;5;124m\"\u001b[39m\u001b[38;5;124mDame un número\u001b[39m\u001b[38;5;124m\"\u001b[39m))\n\u001b[1;32m----> 2\u001b[0m num2 \u001b[38;5;241m=\u001b[39m \u001b[38;5;28;43mint\u001b[39;49m\u001b[43m(\u001b[49m\u001b[38;5;28;43minput\u001b[39;49m\u001b[43m(\u001b[49m\u001b[38;5;124;43m\"\u001b[39;49m\u001b[38;5;124;43mDame un número para dividirlo con el anterior\u001b[39;49m\u001b[38;5;124;43m\"\u001b[39;49m\u001b[43m)\u001b[49m\u001b[43m)\u001b[49m \u001b[38;5;66;03m#Ya que he indicado que el valor tiene que ser (int), el error no lo capuro vía except TypeError sino, por el (int) a la hora de pedir el número\u001b[39;00m\n\u001b[0;32m      3\u001b[0m \u001b[38;5;28;01mtry\u001b[39;00m:\n\u001b[0;32m      4\u001b[0m     solucion\u001b[38;5;241m=\u001b[39mnum1\u001b[38;5;241m/\u001b[39mnum2\n",
      "\u001b[1;31mValueError\u001b[0m: invalid literal for int() with base 10: 'd'"
     ]
    }
   ],
   "source": [
    "num1 = int(input(\"Dame un número\"))\n",
    "num2 = int(input(\"Dame un número para dividirlo con el anterior\")) #Ya que he indicado que el valor tiene que ser (int), el error no lo capuro vía except TypeError sino, por el (int) a la hora de pedir el número\n",
    "try:\n",
    "    solucion=num1/num2\n",
    "    print(solucion)\n",
    "except ZeroDivisionError:\n",
    "    print(\"No se puede dividir entre cero\")\n",
    "except TypeError:\n",
    "    print(\"Por favor, da un valor numérico\")"
   ]
  },
  {
   "cell_type": "markdown",
   "metadata": {},
   "source": [
    "## Ejercicio 2: Acceso a archivos\n",
    "\n",
    "Escribe un programa que intente abrir un archivo llamado \"datos.txt\". Si el archivo no existe, captura la excepción y muestra un mensaje de error. Asegúrate de cerrar el archivo correctamente en la sección `finally`.\n"
   ]
  },
  {
   "cell_type": "code",
   "execution_count": 9,
   "metadata": {},
   "outputs": [
    {
     "name": "stdout",
     "output_type": "stream",
     "text": [
      " El volumen de la unidad C no tiene etiqueta.\n",
      " El n�mero de serie del volumen es: 9E3F-FCF9\n",
      "\n",
      " Directorio de c:\\Users\\almaz\\Downloads\n",
      "\n",
      "01/10/2024  16:48    <DIR>          .\n",
      "14/09/2024  20:05    <DIR>          ..\n",
      "27/07/2024  19:38            69.063 90lP6r-3755316803.jpg\n",
      "03/07/2024  11:51           218.231 AQU� RECOGEMOS SOCIOS PARCH�S 2024.png\n",
      "01/07/2024  13:36         1.507.825 Buscamos gente.png\n",
      "27/07/2024  19:18         2.313.024 CapCut_7376576398787510289_installer.exe\n",
      "27/07/2024  20:34           760.157 CARTAS ARMAS (1).docx\n",
      "27/07/2024  20:33           760.157 CARTAS ARMAS.docx\n",
      "14/09/2024  17:58           124.609 cocina.csv\n",
      "24/09/2024  11:12        51.411.912 Configurador_FNMT_4.0.6_64bits (1).exe\n",
      "04/09/2024  13:44        51.411.912 Configurador_FNMT_4.0.6_64bits.exe\n",
      "11/07/2024  19:26               513 Costes.csv\n",
      "01/10/2024  16:48                 0 datos.txt.txt\n",
      "04/07/2024  21:01       123.073.784 dbeaver-ce-24.1.1-x86_64-setup.exe\n",
      "30/07/2024  10:53         1.091.101 descarga.html\n",
      "09/07/2024  13:26         1.089.534 Dise�o vaso Fiestas de la Juventud (1).pdf\n",
      "09/07/2024  12:15         1.083.612 Dise�o vaso Fiestas de la Juventud.pdf\n",
      "11/07/2024  19:24    <DIR>          drive-download-20240711T172235Z-001\n",
      "11/07/2024  19:22             3.568 drive-download-20240711T172235Z-001.zip\n",
      "31/07/2024  10:40         1.358.684 drive-download-20240731T084003Z-001.zip\n",
      "14/06/2024  13:47               749 DuckDuckGo.appinstaller\n",
      "08/08/2024  14:22             6.449 Ejecricios Diccionarios.ipynb\n",
      "05/09/2024  19:45            13.626 Ejercicios Bucles for.ipynb\n",
      "08/08/2024  13:06             9.470 Ejercicios Listas.ipynb\n",
      "17/08/2024  14:49             7.343 Ejercicios Sentencias de Control.ipynb\n",
      "17/08/2024  13:36             8.991 Ejercicios sets.ipynb\n",
      "08/08/2024  14:09             7.008 Ejercicios Tuplas.ipynb\n",
      "28/07/2024  19:31             9.508 FRASES PERSONAJES.docx\n",
      "04/07/2024  20:51        68.131.584 Git-2.45.2-64-bit.exe\n",
      "20/08/2024  23:39                22 iloveimg-converted.zip\n",
      "17/06/2024  18:16           189.968 Invitaci�n CampusFP_ACOMPA�ANTES.png\n",
      "17/06/2024  18:16           191.202 Invitaci�n negra_Fila 11.png\n",
      "14/06/2024  15:33     3.313.006.442 kali-linux-2024.2-vmware-amd64.7z\n",
      "01/10/2024  16:46             6.633 laboratorio-modulo1-leccion01-manejo-errores.ipynb\n",
      "28/07/2024  17:40            73.407 LOGO-removebg-preview.png\n",
      "31/07/2024  10:17    <DIR>          MACROCLUEDO\n",
      "31/07/2024  10:17        81.518.295 MACROCLUEDO-20240731T081721Z-001.zip\n",
      "28/07/2024  19:27         1.349.077 MAPAS.docx\n",
      "10/07/2024  11:18           127.244 Modelo recibi 1 (1).pdf\n",
      "09/07/2024  13:37           127.684 Modelo recibi 1.pdf\n",
      "09/07/2024  13:14           148.621 Modelo recibi.xlsx\n",
      "01/10/2024  14:23            22.029 modulo1-leccion01-break-pass-continue.ipynb\n",
      "01/10/2024  15:11            23.910 modulo1-leccion01-manejo-errores.ipynb\n",
      "01/10/2024  14:53            62.564 modulo1-leccion02-expresiones-regulares.ipynb\n",
      "14/06/2024  13:42           425.304 Ninite Chrome Discord Google Drive for Desktop Installer.exe\n",
      "30/07/2024  19:22           280.173 paella_5.jpg\n",
      "10/07/2024  13:40            17.555 Parchis24.xlsx\n",
      "14/06/2024  14:28           759.389 pdf-145293957.pdf\n",
      "04/07/2024  21:05       384.864.712 postgresql-16.3-2-windows-x64.exe\n",
      "28/07/2024  17:53           378.747 PROMOCi�n (1).png\n",
      "28/07/2024  17:54           378.787 PROMOCi�n (2).png\n",
      "28/07/2024  17:49           370.244 PROMOCi�n.png\n",
      "03/07/2024  11:56           139.840 PUB BLANCO Y NEGRO.pdf\n",
      "04/07/2024  20:59        26.772.456 python-3.12.4-amd64.exe\n",
      "14/09/2024  17:58           112.261 sala.csv\n",
      "09/07/2024  18:05         1.852.866 spaces_3iWczBNnn5rbfoUlE0Jd_uploads_git-blob-15424625d88ba237053acf2f181419436320d12d_CreacionBBDDChinook.sql\n",
      "14/09/2024  12:52             3.137 spaces_3iWczBNnn5rbfoUlE0Jd_uploads_git-blob-34ad94f71a6ea3e6a9559e11b996de41fc9f6736_04-consultas-ordenacion-agrupacion.sql\n",
      "13/09/2024  19:41             2.109 spaces_3iWczBNnn5rbfoUlE0Jd_uploads_git-blob-4d7694a67515d74e977a2bcd0d21e8d1e54299a2_03-funciones-agregacion.sql\n",
      "14/09/2024  17:43             3.579 spaces_3iWczBNnn5rbfoUlE0Jd_uploads_git-blob-6fdc2129200e9d1dcba11f5fc2bb4806ca7f96e6_05-relaciones-tablas.sql\n",
      "13/09/2024  19:14             3.830 spaces_3iWczBNnn5rbfoUlE0Jd_uploads_git-blob-7f17460e46d4ec856ae1a35c9ab7a526109676ea_02-consultas-basicas (1).sql\n",
      "13/09/2024  17:50             2.232 spaces_3iWczBNnn5rbfoUlE0Jd_uploads_git-blob-7f17460e46d4ec856ae1a35c9ab7a526109676ea_02-consultas-basicas.sql\n",
      "07/08/2024  10:56           112.261 spaces_3iWczBNnn5rbfoUlE0Jd_uploads_git-blob-9864c7f811c613c3faab876659c6423570939694_sala.csv\n",
      "13/09/2024  17:42             9.258 spaces_3iWczBNnn5rbfoUlE0Jd_uploads_git-blob-a3fb5a208c8429ff969647798cfd186f478b876a_09-funciones (1).ipynb\n",
      "05/09/2024  13:33             4.645 spaces_3iWczBNnn5rbfoUlE0Jd_uploads_git-blob-a3fb5a208c8429ff969647798cfd186f478b876a_09-funciones.ipynb\n",
      "07/08/2024  22:21             4.539 spaces_3iWczBNnn5rbfoUlE0Jd_uploads_git-blob-a40e4fcbc8f1ff7ad8b0b1d9d6c73943b8bbac41_01-variables (1).ipynb\n",
      "07/08/2024  22:21             4.539 spaces_3iWczBNnn5rbfoUlE0Jd_uploads_git-blob-a40e4fcbc8f1ff7ad8b0b1d9d6c73943b8bbac41_01-variables.ipynb\n",
      "07/08/2024  10:56           124.609 spaces_3iWczBNnn5rbfoUlE0Jd_uploads_git-blob-d9e80ffbcef8a4adc6d29edd78618add5df0cce0_cocina.csv\n",
      "07/08/2024  15:57             6.467 strings.ipynb\n",
      "28/07/2024  17:30         7.733.555 Superhero_Mystery_Mission (1).mp4\n",
      "30/07/2024  10:28         9.790.968 Superhero_Mystery_Mission (2).mp4\n",
      "27/07/2024  20:25         5.305.384 Superhero_Mystery_Mission.mp4\n",
      "18/06/2024  10:52        13.885.113 teoria conta.pdf\n",
      "07/08/2024  11:17             4.539 variables.ipynb\n",
      "14/06/2024  15:22       648.295.400 VMware-workstation-full-17.5.2-23775571.exe\n",
      "              70 archivos  4.802.968.010 bytes\n",
      "               4 dirs  933.073.653.760 bytes libres\n"
     ]
    }
   ],
   "source": [
    "!dir"
   ]
  },
  {
   "cell_type": "code",
   "execution_count": 32,
   "metadata": {},
   "outputs": [],
   "source": [
    "archivo = 'datos.txt'\n",
    "file1 = None\n",
    "try:\n",
    "    file1 = open(archivo)\n",
    "except IOError:\n",
    "    print(\"El archivo no existe\")\n",
    "finally:\n",
    "    if file1 != None:\n",
    "        file1.close()"
   ]
  },
  {
   "cell_type": "markdown",
   "metadata": {},
   "source": [
    "## Ejercicio 3: Conversión de cadenas a enteros\n",
    "\n",
    "Escribe un programa que pida una lista de números separados por comas y convierta cada valor a un número entero. Maneja las excepciones para valores que no sean convertibles y asegúrate de informar si la conversión fue exitosa o no.\n"
   ]
  },
  {
   "cell_type": "code",
   "execution_count": 28,
   "metadata": {},
   "outputs": [
    {
     "name": "stdout",
     "output_type": "stream",
     "text": [
      "[1, 2, 3, 4, 5]\n"
     ]
    }
   ],
   "source": [
    "lista = input(\"dame una lista de numeros separada por comas\")\n",
    "lista = lista.split(\",\")\n",
    "for i in range(len(lista)):\n",
    "    lista[i] = int(lista[i])\n",
    "print(lista)"
   ]
  },
  {
   "cell_type": "markdown",
   "metadata": {},
   "source": [
    "#### Ejercicio 4: Cálculo del promedio con manejo de excepciones\n",
    "\n",
    "Escribe una función que reciba una lista de números y calcule su promedio. Si la lista está vacía, lanza una excepción personalizada y maneja el error adecuadamente.\n"
   ]
  },
  {
   "cell_type": "code",
   "execution_count": 8,
   "metadata": {},
   "outputs": [
    {
     "name": "stdout",
     "output_type": "stream",
     "text": [
      "La lista esta vacia\n"
     ]
    }
   ],
   "source": [
    "def promedio_excepciones(lista_numeros):\n",
    "    try:\n",
    "        media = sum(lista_numeros) / len(lista_numeros)\n",
    "        return media\n",
    "    except ZeroDivisionError:\n",
    "        print(\"La lista esta vacia\")\n",
    "\n",
    "\n",
    "listilla = [0,1,2,6,9,4,-5]\n",
    "tontilla = []\n",
    "promedio_excepciones(tontilla)"
   ]
  },
  {
   "cell_type": "markdown",
   "metadata": {},
   "source": [
    "#### Ejercicio 5: Conversión segura de números\n",
    "\n",
    "Escribe un programa que convierta una cadena a número flotante e intente realizar una operación aritmética. Si la conversión falla, maneja la excepción y continúa con el flujo normal."
   ]
  },
  {
   "cell_type": "code",
   "execution_count": 13,
   "metadata": {},
   "outputs": [
    {
     "ename": "ValueError",
     "evalue": "could not convert string to float: 'e.2'",
     "output_type": "error",
     "traceback": [
      "\u001b[1;31m---------------------------------------------------------------------------\u001b[0m",
      "\u001b[1;31mValueError\u001b[0m                                Traceback (most recent call last)",
      "Cell \u001b[1;32mIn[13], line 4\u001b[0m\n\u001b[0;32m      1\u001b[0m cadena \u001b[38;5;241m=\u001b[39m \u001b[38;5;124m\"\u001b[39m\u001b[38;5;124me.2\u001b[39m\u001b[38;5;124m\"\u001b[39m\n\u001b[0;32m      3\u001b[0m \u001b[38;5;28;01mtry\u001b[39;00m:\n\u001b[1;32m----> 4\u001b[0m     num \u001b[38;5;241m=\u001b[39m \u001b[38;5;28;43mfloat\u001b[39;49m\u001b[43m(\u001b[49m\u001b[43mcadena\u001b[49m\u001b[43m)\u001b[49m\n\u001b[0;32m      5\u001b[0m     operación \u001b[38;5;241m=\u001b[39m num \u001b[38;5;241m*\u001b[39m \u001b[38;5;241m2\u001b[39m\n\u001b[0;32m      6\u001b[0m     \u001b[38;5;28mprint\u001b[39m(operación)\n",
      "\u001b[1;31mValueError\u001b[0m: could not convert string to float: 'e.2'"
     ]
    }
   ],
   "source": [
    "cadena = \"e.2\"\n",
    "\n",
    "try:\n",
    "    num = float(cadena)\n",
    "    operación = num * 2\n",
    "    print(operación)\n",
    "except TypeError:\n",
    "    print(\"Por favor añade un tipo válido\")\n",
    "except ArithmeticError:\n",
    "    print(\"No se puede realizar una operacíon arithmetica con ese valor\")"
   ]
  },
  {
   "cell_type": "markdown",
   "metadata": {},
   "source": [
    "#### Ejercicio 6: Acceso a claves en diccionarios\n",
    "\n",
    "Escribe un programa que intente acceder a una clave específica en un diccionario. Si la clave no existe, maneja la excepción `KeyError` y muestra un mensaje indicando el problema."
   ]
  },
  {
   "cell_type": "code",
   "execution_count": 15,
   "metadata": {},
   "outputs": [
    {
     "name": "stdout",
     "output_type": "stream",
     "text": [
      "Uno de los valores que estas pidiendo en pantalla no aparece como clave en el diccionario\n"
     ]
    }
   ],
   "source": [
    "diccionario = {\n",
    "    \"Nombre\" : \"Lucas\",\n",
    "    \"Apellidos\" : \"Medrano\",\n",
    "    \"Altura\" : \"1.28\"\n",
    "}\n",
    "try:\n",
    "    print(diccionario[\"nombre\", \"Altura\", \"Género\"])\n",
    "except KeyError:\n",
    "    print(\"Uno de los valores que estas pidiendo en pantalla no aparece como clave en el diccionario\")"
   ]
  },
  {
   "cell_type": "markdown",
   "metadata": {},
   "source": [
    "\n",
    "#### Ejercicio 7: Verificación de entradas de usuario\n",
    "\n",
    "Escribe un programa que pida al usuario que introduzca su edad. Si el usuario ingresa un valor no numérico o un valor fuera del rango esperado (por ejemplo, menor que 0 o mayor que 120), maneja las excepciones adecuadamente."
   ]
  },
  {
   "cell_type": "code",
   "execution_count": null,
   "metadata": {},
   "outputs": [],
   "source": [
    "try:\n",
    "    edad = int(input(\"Dame un número comprendido entre 0 y 120\"))\n",
    "    \n",
    "    if edad <= 0 or edad >= 120:\n",
    "        print(\"Dame un valor válido por favor (entre 0 y 120)\")\n",
    "    else:\n",
    "        print(f\"Gracias, tu edad es {edad}\")\n",
    "        \n",
    "except ValueError:\n",
    "    print(\"Por favor, ingresa un número válido.\")\n"
   ]
  },
  {
   "cell_type": "markdown",
   "metadata": {},
   "source": [
    "#### Ejercicio 8: Extracción de valores de una lista\n",
    "\n",
    "Escribe una función que intente acceder a un índice específico en una lista. Si el índice está fuera del rango, maneja la excepción `IndexError` y muestra un mensaje adecuado.\n"
   ]
  },
  {
   "cell_type": "code",
   "execution_count": 8,
   "metadata": {},
   "outputs": [],
   "source": [
    "listona = [1, 2, 3, 4, 5, 6]\n",
    "aloja = int(input(\"A que valor de la lista quieres acceder, acuerdate que las listas son indexables\"))\n",
    "def acceder_indice(covadonga):\n",
    "    try:\n",
    "       valore = listona[0]\n",
    "       print(valore)\n",
    "    except:\n",
    "        print(\"La lista no tiene ese índice\")\n",
    "    return valore"
   ]
  }
 ],
 "metadata": {
  "kernelspec": {
   "display_name": "contenido",
   "language": "python",
   "name": "python3"
  },
  "language_info": {
   "codemirror_mode": {
    "name": "ipython",
    "version": 3
   },
   "file_extension": ".py",
   "mimetype": "text/x-python",
   "name": "python",
   "nbconvert_exporter": "python",
   "pygments_lexer": "ipython3",
   "version": "3.12.4"
  }
 },
 "nbformat": 4,
 "nbformat_minor": 2
}
